{
 "cells": [
  {
   "cell_type": "markdown",
   "id": "b0ce1e5c-eb71-4446-abae-81db36717c88",
   "metadata": {},
   "source": [
    "# API Kueski risk predict"
   ]
  },
  {
   "cell_type": "markdown",
   "id": "1a2e1466-e1b4-4061-8b80-b65d19591ad1",
   "metadata": {},
   "source": [
    "The following notebook was created to help the user in the prediction of the client's risk."
   ]
  },
  {
   "cell_type": "markdown",
   "id": "64ae1419-db5f-4b64-8bc1-4a36586bce8b",
   "metadata": {},
   "source": [
    "It has 2 sections:\n",
    "**get_client_info** and **model_predict**"
   ]
  },
  {
   "cell_type": "code",
   "execution_count": 1,
   "id": "974715d5-d9bf-4408-aa8b-b9b5d59de87d",
   "metadata": {},
   "outputs": [],
   "source": [
    "import requests"
   ]
  },
  {
   "cell_type": "code",
   "execution_count": 2,
   "id": "46502de2-2c17-47ee-b5e2-e36c3da25f52",
   "metadata": {},
   "outputs": [],
   "source": [
    "#Client to search for information or predict risk\n",
    "client_id = 5009033"
   ]
  },
  {
   "cell_type": "code",
   "execution_count": 39,
   "id": "5e2ab419-b694-4261-88c8-1501f4706033",
   "metadata": {},
   "outputs": [],
   "source": [
    "#URL and port of the API flask\n",
    "url = 'http://127.0.0.1:5000/'"
   ]
  },
  {
   "cell_type": "markdown",
   "id": "ce8bdb29-a6f8-43f3-93b4-fe3ec4e851e5",
   "metadata": {},
   "source": [
    "### Get_client_info\n",
    "\n",
    "Return the infomation features about an specific client"
   ]
  },
  {
   "cell_type": "code",
   "execution_count": 41,
   "id": "ace1282a-5f6e-4e01-b932-e17dd8c7edb5",
   "metadata": {},
   "outputs": [
    {
     "data": {
      "text/plain": [
       "{'5009033': [[51.0, 0.0, 16.0, 130.3734505001889, 0.0]]}"
      ]
     },
     "execution_count": 41,
     "metadata": {},
     "output_type": "execute_result"
    }
   ],
   "source": [
    "requests.post(url+'get_cient_info', json=client_id).json()"
   ]
  },
  {
   "cell_type": "markdown",
   "id": "87552a13-9dd4-4165-b1d3-c3e02d35246a",
   "metadata": {},
   "source": [
    "### Model_predict\n",
    "\n",
    "Return the credict predict of a client"
   ]
  },
  {
   "cell_type": "code",
   "execution_count": 42,
   "id": "c175e261-f87d-47d6-ad3d-96d3c52ab1be",
   "metadata": {},
   "outputs": [
    {
     "data": {
      "text/plain": [
       "{'prediction': [0]}"
      ]
     },
     "execution_count": 42,
     "metadata": {},
     "output_type": "execute_result"
    }
   ],
   "source": [
    "requests.post(url+'model_predict', json=client_id).json()"
   ]
  }
 ],
 "metadata": {
  "kernelspec": {
   "display_name": "Python 3",
   "language": "python",
   "name": "python3"
  },
  "language_info": {
   "codemirror_mode": {
    "name": "ipython",
    "version": 3
   },
   "file_extension": ".py",
   "mimetype": "text/x-python",
   "name": "python",
   "nbconvert_exporter": "python",
   "pygments_lexer": "ipython3",
   "version": "3.6.13"
  }
 },
 "nbformat": 4,
 "nbformat_minor": 5
}
